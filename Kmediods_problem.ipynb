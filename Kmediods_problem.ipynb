{
 "cells": [
  {
   "cell_type": "code",
   "execution_count": 1,
   "metadata": {},
   "outputs": [
    {
     "name": "stderr",
     "output_type": "stream",
     "text": [
      "c:\\Users\\DELL\\AppData\\Local\\Programs\\Python\\Python311\\Lib\\site-packages\\tqdm\\auto.py:21: TqdmWarning: IProgress not found. Please update jupyter and ipywidgets. See https://ipywidgets.readthedocs.io/en/stable/user_install.html\n",
      "  from .autonotebook import tqdm as notebook_tqdm\n"
     ]
    },
    {
     "name": "stdout",
     "output_type": "stream",
     "text": [
      "Running on local URL:  http://127.0.0.1:7862\n",
      "\n",
      "To create a public link, set `share=True` in `launch()`.\n"
     ]
    },
    {
     "data": {
      "text/html": [
       "<div><iframe src=\"http://127.0.0.1:7862/\" width=\"100%\" height=\"500\" allow=\"autoplay; camera; microphone; clipboard-read; clipboard-write;\" frameborder=\"0\" allowfullscreen></iframe></div>"
      ],
      "text/plain": [
       "<IPython.core.display.HTML object>"
      ]
     },
     "metadata": {},
     "output_type": "display_data"
    },
    {
     "data": {
      "text/plain": []
     },
     "execution_count": 1,
     "metadata": {},
     "output_type": "execute_result"
    }
   ],
   "source": [
    "import gradio as gr\n",
    "import numpy as np\n",
    "\n",
    "data_points = np.array([2, 3, 4, 10, 11, 12, 20, 25, 30])\n",
    "\n",
    "def calculate_new_medoids(data_points, medoids):\n",
    "    clusters = {i: [] for i in range(len(medoids))}\n",
    "    for point in data_points:\n",
    "        closest_medoid_index = np.argmin(np.abs(medoids - point))\n",
    "        clusters[closest_medoid_index].append(point)\n",
    "    \n",
    "    new_medoids = []\n",
    "    for i, cluster in clusters.items():\n",
    "        # Compute the sum of distances from all points in the cluster to each point in the cluster\n",
    "        distances = np.sum(np.abs(np.array(cluster).reshape(-1, 1) - np.array(cluster)), axis=0)\n",
    "        # Select the point with the smallest sum of distances as the new medoid\n",
    "        new_medoids.append(cluster[np.argmin(distances)])\n",
    "    \n",
    "    return np.array(new_medoids), clusters\n",
    "\n",
    "def kmedoids_clustering(m1, m2):\n",
    "    initial_medoids = np.array([m1, m2])\n",
    "    medoids = initial_medoids\n",
    "    iterations = 0\n",
    "    converged = False\n",
    "    steps = {}\n",
    "\n",
    "    while not converged:\n",
    "        iterations += 1\n",
    "        new_medoids, clusters = calculate_new_medoids(data_points, medoids)\n",
    "        steps[iterations] = {'medoids': medoids, 'clusters': clusters}\n",
    "        converged = np.all(new_medoids == medoids)\n",
    "        medoids = new_medoids\n",
    "    \n",
    "    result = \"\"\n",
    "    for step, details in steps.items():\n",
    "        result += f\"Step {step}:\\n\"\n",
    "        result += f\"Medoids: {details['medoids']}\\n\"\n",
    "        for cluster_idx, points in details['clusters'].items():\n",
    "            result += f\"Cluster {cluster_idx + 1}: {points}\\n\"\n",
    "        result += \"---\\n\"  # Separator for steps\n",
    "    return result\n",
    "\n",
    "iface = gr.Interface(\n",
    "    fn=kmedoids_clustering,\n",
    "    inputs=[gr.Slider(1, 30, label=\"Initial Medoid 1 (m1)\"), \n",
    "            gr.Slider(1, 30, label=\"Initial Medoid 2 (m2)\")],\n",
    "    outputs=\"text\",\n",
    "    title=\"Kmedoids Clustering\"\n",
    ")\n",
    "\n",
    "iface.launch()\n"
   ]
  },
  {
   "cell_type": "code",
   "execution_count": null,
   "metadata": {},
   "outputs": [],
   "source": []
  }
 ],
 "metadata": {
  "kernelspec": {
   "display_name": "base",
   "language": "python",
   "name": "python3"
  },
  "language_info": {
   "codemirror_mode": {
    "name": "ipython",
    "version": 3
   },
   "file_extension": ".py",
   "mimetype": "text/x-python",
   "name": "python",
   "nbconvert_exporter": "python",
   "pygments_lexer": "ipython3",
   "version": "3.11.5"
  }
 },
 "nbformat": 4,
 "nbformat_minor": 2
}
