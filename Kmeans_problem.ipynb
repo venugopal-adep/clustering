{
 "cells": [
  {
   "cell_type": "code",
   "execution_count": 2,
   "metadata": {},
   "outputs": [
    {
     "name": "stdout",
     "output_type": "stream",
     "text": [
      "Note: you may need to restart the kernel to use updated packages.\n"
     ]
    },
    {
     "name": "stderr",
     "output_type": "stream",
     "text": [
      "  WARNING: The script uvicorn.exe is installed in 'c:\\Users\\DELL\\AppData\\Local\\Programs\\Python\\Python311\\Scripts' which is not on PATH.\n",
      "  Consider adding this directory to PATH or, if you prefer to suppress this warning, use --no-warn-script-location.\n",
      "  WARNING: The script markdown-it.exe is installed in 'c:\\Users\\DELL\\AppData\\Local\\Programs\\Python\\Python311\\Scripts' which is not on PATH.\n",
      "  Consider adding this directory to PATH or, if you prefer to suppress this warning, use --no-warn-script-location.\n",
      "  WARNING: The script huggingface-cli.exe is installed in 'c:\\Users\\DELL\\AppData\\Local\\Programs\\Python\\Python311\\Scripts' which is not on PATH.\n",
      "  Consider adding this directory to PATH or, if you prefer to suppress this warning, use --no-warn-script-location.\n",
      "  WARNING: The script httpx.exe is installed in 'c:\\Users\\DELL\\AppData\\Local\\Programs\\Python\\Python311\\Scripts' which is not on PATH.\n",
      "  Consider adding this directory to PATH or, if you prefer to suppress this warning, use --no-warn-script-location.\n",
      "  WARNING: The script jsonschema.exe is installed in 'c:\\Users\\DELL\\AppData\\Local\\Programs\\Python\\Python311\\Scripts' which is not on PATH.\n",
      "  Consider adding this directory to PATH or, if you prefer to suppress this warning, use --no-warn-script-location.\n",
      "  WARNING: The scripts gradio.exe and upload_theme.exe are installed in 'c:\\Users\\DELL\\AppData\\Local\\Programs\\Python\\Python311\\Scripts' which is not on PATH.\n",
      "  Consider adding this directory to PATH or, if you prefer to suppress this warning, use --no-warn-script-location.\n"
     ]
    }
   ],
   "source": [
    "pip install gradio==4.5.0 -q"
   ]
  },
  {
   "cell_type": "code",
   "execution_count": 4,
   "metadata": {},
   "outputs": [
    {
     "name": "stdout",
     "output_type": "stream",
     "text": [
      "Running on local URL:  http://127.0.0.1:7861\n",
      "\n",
      "To create a public link, set `share=True` in `launch()`.\n"
     ]
    },
    {
     "name": "stderr",
     "output_type": "stream",
     "text": [
      "c:\\Users\\DELL\\AppData\\Local\\Programs\\Python\\Python311\\Lib\\site-packages\\numpy\\core\\fromnumeric.py:3504: RuntimeWarning: Mean of empty slice.\n",
      "  return _methods._mean(a, axis=axis, dtype=dtype,\n",
      "c:\\Users\\DELL\\AppData\\Local\\Programs\\Python\\Python311\\Lib\\site-packages\\numpy\\core\\_methods.py:129: RuntimeWarning: invalid value encountered in scalar divide\n",
      "  ret = ret.dtype.type(ret / rcount)\n"
     ]
    },
    {
     "data": {
      "text/html": [
       "<div><iframe src=\"http://127.0.0.1:7861/\" width=\"100%\" height=\"500\" allow=\"autoplay; camera; microphone; clipboard-read; clipboard-write;\" frameborder=\"0\" allowfullscreen></iframe></div>"
      ],
      "text/plain": [
       "<IPython.core.display.HTML object>"
      ]
     },
     "metadata": {},
     "output_type": "display_data"
    },
    {
     "data": {
      "text/plain": []
     },
     "execution_count": 4,
     "metadata": {},
     "output_type": "execute_result"
    }
   ],
   "source": [
    "import gradio as gr\n",
    "import numpy as np\n",
    "\n",
    "data_points = np.array([2, 3, 4, 10, 11, 12, 20, 25, 30])\n",
    "\n",
    "def calculate_new_means(data_points, means):\n",
    "    clusters = {i: [] for i in range(len(means))}\n",
    "    for point in data_points:\n",
    "        closest_mean_index = np.argmin(np.abs(means - point))\n",
    "        clusters[closest_mean_index].append(point)\n",
    "    \n",
    "    new_means = []\n",
    "    for cluster in clusters.values():\n",
    "        new_means.append(np.mean(cluster))\n",
    "    \n",
    "    return np.array(new_means), clusters\n",
    "\n",
    "def kmeans_clustering(m1, m2):\n",
    "    initial_means = np.array([m1, m2])\n",
    "    means = initial_means\n",
    "    iterations = 0\n",
    "    converged = False\n",
    "    steps = {}\n",
    "\n",
    "    while not converged:\n",
    "        iterations += 1\n",
    "        new_means, clusters = calculate_new_means(data_points, means)\n",
    "        steps[iterations] = {'means': means, 'clusters': clusters}\n",
    "        converged = np.all(new_means == means)\n",
    "        means = new_means\n",
    "    \n",
    "    result = \"\"\n",
    "    for step, details in steps.items():\n",
    "        result += f\"Step {step}:\\n\"\n",
    "        result += f\"Centroids: {details['means']}\\n\"\n",
    "        for cluster_idx, points in details['clusters'].items():\n",
    "            result += f\"Cluster {cluster_idx + 1}: {points}\\n\"\n",
    "        result += \"---\\n\"  # Separator for steps\n",
    "    return result\n",
    "\n",
    "iface = gr.Interface(\n",
    "    fn=kmeans_clustering,\n",
    "    inputs=[gr.Slider(1, 30, label=\"Initial Mean 1 (m1)\"), \n",
    "            gr.Slider(1, 30, label=\"Initial Mean 2 (m2)\")],\n",
    "    outputs=\"text\",\n",
    "    title=\"Kmeans Clustering\"\n",
    ")\n",
    "\n",
    "iface.launch()\n"
   ]
  },
  {
   "cell_type": "code",
   "execution_count": null,
   "metadata": {},
   "outputs": [],
   "source": []
  }
 ],
 "metadata": {
  "kernelspec": {
   "display_name": "base",
   "language": "python",
   "name": "python3"
  },
  "language_info": {
   "codemirror_mode": {
    "name": "ipython",
    "version": 3
   },
   "file_extension": ".py",
   "mimetype": "text/x-python",
   "name": "python",
   "nbconvert_exporter": "python",
   "pygments_lexer": "ipython3",
   "version": "3.11.5"
  }
 },
 "nbformat": 4,
 "nbformat_minor": 2
}
